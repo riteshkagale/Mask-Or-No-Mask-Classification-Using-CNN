{
  "nbformat": 4,
  "nbformat_minor": 0,
  "metadata": {
    "colab": {
      "name": "With or Without Mask Classification using CNN.ipynb",
      "provenance": [],
      "collapsed_sections": []
    },
    "kernelspec": {
      "name": "python3",
      "display_name": "Python 3"
    }
  },
  "cells": [
    {
      "cell_type": "markdown",
      "metadata": {
        "id": "3DR-eO17geWu"
      },
      "source": [
        "# Convolutional Neural Network"
      ]
    },
    {
      "cell_type": "markdown",
      "metadata": {
        "id": "EMefrVPCg-60"
      },
      "source": [
        "### Importing the libraries"
      ]
    },
    {
      "cell_type": "code",
      "metadata": {
        "id": "sCV30xyVhFbE"
      },
      "source": [
        "import tensorflow as tf\n",
        "from keras.preprocessing.image import ImageDataGenerator"
      ],
      "execution_count": 1,
      "outputs": []
    },
    {
      "cell_type": "code",
      "metadata": {
        "id": "FIleuCAjoFD8",
        "outputId": "2116700a-0f12-4fa7-f768-ce141b2cce26",
        "colab": {
          "base_uri": "https://localhost:8080/",
          "height": 35
        }
      },
      "source": [
        "tf.__version__"
      ],
      "execution_count": 2,
      "outputs": [
        {
          "output_type": "execute_result",
          "data": {
            "application/vnd.google.colaboratory.intrinsic+json": {
              "type": "string"
            },
            "text/plain": [
              "'2.3.0'"
            ]
          },
          "metadata": {
            "tags": []
          },
          "execution_count": 2
        }
      ]
    },
    {
      "cell_type": "code",
      "metadata": {
        "id": "bVd4Ad9-jWh1",
        "outputId": "ce8054f1-001e-4ce2-90a6-3eed23abdc23",
        "colab": {
          "base_uri": "https://localhost:8080/",
          "height": 34
        }
      },
      "source": [
        "from google.colab import drive\n",
        "drive.mount('/content/gdrive')"
      ],
      "execution_count": 3,
      "outputs": [
        {
          "output_type": "stream",
          "text": [
            "Mounted at /content/gdrive\n"
          ],
          "name": "stdout"
        }
      ]
    },
    {
      "cell_type": "markdown",
      "metadata": {
        "id": "oxQxCBWyoGPE"
      },
      "source": [
        "## Part 1 - Data Preprocessing"
      ]
    },
    {
      "cell_type": "markdown",
      "metadata": {
        "id": "MvE-heJNo3GG"
      },
      "source": [
        "### Preprocessing the Training set"
      ]
    },
    {
      "cell_type": "code",
      "metadata": {
        "id": "0koUcJMJpEBD",
        "outputId": "355c320b-0301-4948-8e62-fc76c1919f0d",
        "colab": {
          "base_uri": "https://localhost:8080/",
          "height": 34
        }
      },
      "source": [
        "train_datagen = ImageDataGenerator(rescale = 1./255,\n",
        "                                   shear_range = 0.2,\n",
        "                                   zoom_range = 0.2,\n",
        "                                   horizontal_flip = True)\n",
        "training_set = train_datagen.flow_from_directory('/content/gdrive/My Drive/Colab Notebooks/dataset/traning_set',\n",
        "                                                 target_size = (64, 64),\n",
        "                                                 batch_size = 32,\n",
        "                                                 class_mode = 'binary')"
      ],
      "execution_count": 4,
      "outputs": [
        {
          "output_type": "stream",
          "text": [
            "Found 898 images belonging to 2 classes.\n"
          ],
          "name": "stdout"
        }
      ]
    },
    {
      "cell_type": "markdown",
      "metadata": {
        "id": "mrCMmGw9pHys"
      },
      "source": [
        "### Preprocessing the Test set"
      ]
    },
    {
      "cell_type": "code",
      "metadata": {
        "id": "SH4WzfOhpKc3",
        "outputId": "d7238305-9ae3-48a4-d9fe-e9cc8b138cb4",
        "colab": {
          "base_uri": "https://localhost:8080/",
          "height": 34
        }
      },
      "source": [
        "test_datagen = ImageDataGenerator(rescale = 1./255)\n",
        "test_set = test_datagen.flow_from_directory('/content/gdrive/My Drive/Colab Notebooks/dataset/test_set',\n",
        "                                            target_size = (64, 64),\n",
        "                                            batch_size = 32,\n",
        "                                            class_mode = 'binary')"
      ],
      "execution_count": 5,
      "outputs": [
        {
          "output_type": "stream",
          "text": [
            "Found 239 images belonging to 2 classes.\n"
          ],
          "name": "stdout"
        }
      ]
    },
    {
      "cell_type": "code",
      "metadata": {
        "id": "UQByvFwXqedR",
        "outputId": "19decd8f-6d1b-4afc-935d-3cee479d6c81",
        "colab": {
          "base_uri": "https://localhost:8080/",
          "height": 34
        }
      },
      "source": [
        "training_set.class_indices"
      ],
      "execution_count": 6,
      "outputs": [
        {
          "output_type": "execute_result",
          "data": {
            "text/plain": [
              "{'with_mask': 0, 'without_mask': 1}"
            ]
          },
          "metadata": {
            "tags": []
          },
          "execution_count": 6
        }
      ]
    },
    {
      "cell_type": "markdown",
      "metadata": {
        "id": "af8O4l90gk7B"
      },
      "source": [
        "## Part 2 - Building the CNN"
      ]
    },
    {
      "cell_type": "markdown",
      "metadata": {
        "id": "ces1gXY2lmoX"
      },
      "source": [
        "### Initialising the CNN"
      ]
    },
    {
      "cell_type": "code",
      "metadata": {
        "id": "SAUt4UMPlhLS"
      },
      "source": [
        "cnn = tf.keras.models.Sequential()"
      ],
      "execution_count": 7,
      "outputs": []
    },
    {
      "cell_type": "markdown",
      "metadata": {
        "id": "u5YJj_XMl5LF"
      },
      "source": [
        "### Step 1 - Convolution"
      ]
    },
    {
      "cell_type": "code",
      "metadata": {
        "id": "XPzPrMckl-hV"
      },
      "source": [
        "cnn.add(tf.keras.layers.Conv2D(filters=32, kernel_size=3, activation='relu', input_shape=[64, 64, 3]))"
      ],
      "execution_count": 8,
      "outputs": []
    },
    {
      "cell_type": "markdown",
      "metadata": {
        "id": "tf87FpvxmNOJ"
      },
      "source": [
        "### Step 2 - Pooling"
      ]
    },
    {
      "cell_type": "code",
      "metadata": {
        "id": "ncpqPl69mOac"
      },
      "source": [
        "cnn.add(tf.keras.layers.MaxPool2D(pool_size=2, strides=2))"
      ],
      "execution_count": 9,
      "outputs": []
    },
    {
      "cell_type": "markdown",
      "metadata": {
        "id": "xaTOgD8rm4mU"
      },
      "source": [
        "### Adding a second convolutional layer"
      ]
    },
    {
      "cell_type": "code",
      "metadata": {
        "id": "i_-FZjn_m8gk"
      },
      "source": [
        "cnn.add(tf.keras.layers.Conv2D(filters=32, kernel_size=3, activation='relu'))\n",
        "cnn.add(tf.keras.layers.MaxPool2D(pool_size=2, strides=2))"
      ],
      "execution_count": 10,
      "outputs": []
    },
    {
      "cell_type": "markdown",
      "metadata": {
        "id": "tmiEuvTunKfk"
      },
      "source": [
        "### Step 3 - Flattening"
      ]
    },
    {
      "cell_type": "code",
      "metadata": {
        "id": "6AZeOGCvnNZn"
      },
      "source": [
        "cnn.add(tf.keras.layers.Flatten())"
      ],
      "execution_count": 11,
      "outputs": []
    },
    {
      "cell_type": "markdown",
      "metadata": {
        "id": "dAoSECOm203v"
      },
      "source": [
        "### Step 4 - Full Connection"
      ]
    },
    {
      "cell_type": "code",
      "metadata": {
        "id": "8GtmUlLd26Nq"
      },
      "source": [
        "cnn.add(tf.keras.layers.Dense(units=128, activation='relu'))"
      ],
      "execution_count": 12,
      "outputs": []
    },
    {
      "cell_type": "markdown",
      "metadata": {
        "id": "yTldFvbX28Na"
      },
      "source": [
        "### Step 5 - Output Layer"
      ]
    },
    {
      "cell_type": "code",
      "metadata": {
        "id": "1p_Zj1Mc3Ko_"
      },
      "source": [
        "cnn.add(tf.keras.layers.Dense(units=1, activation='sigmoid'))"
      ],
      "execution_count": 13,
      "outputs": []
    },
    {
      "cell_type": "markdown",
      "metadata": {
        "id": "D6XkI90snSDl"
      },
      "source": [
        "## Part 3 - Training the CNN"
      ]
    },
    {
      "cell_type": "markdown",
      "metadata": {
        "id": "vfrFQACEnc6i"
      },
      "source": [
        "### Compiling the CNN"
      ]
    },
    {
      "cell_type": "code",
      "metadata": {
        "id": "NALksrNQpUlJ"
      },
      "source": [
        "cnn.compile(optimizer = 'adam', loss = 'binary_crossentropy', metrics = ['accuracy'])"
      ],
      "execution_count": 14,
      "outputs": []
    },
    {
      "cell_type": "code",
      "metadata": {
        "id": "1VguFIo-zqf5",
        "outputId": "0cc4b717-8340-451a-cd5c-19565335bf41",
        "colab": {
          "base_uri": "https://localhost:8080/",
          "height": 386
        }
      },
      "source": [
        "cnn.summary()"
      ],
      "execution_count": 15,
      "outputs": [
        {
          "output_type": "stream",
          "text": [
            "Model: \"sequential\"\n",
            "_________________________________________________________________\n",
            "Layer (type)                 Output Shape              Param #   \n",
            "=================================================================\n",
            "conv2d (Conv2D)              (None, 62, 62, 32)        896       \n",
            "_________________________________________________________________\n",
            "max_pooling2d (MaxPooling2D) (None, 31, 31, 32)        0         \n",
            "_________________________________________________________________\n",
            "conv2d_1 (Conv2D)            (None, 29, 29, 32)        9248      \n",
            "_________________________________________________________________\n",
            "max_pooling2d_1 (MaxPooling2 (None, 14, 14, 32)        0         \n",
            "_________________________________________________________________\n",
            "flatten (Flatten)            (None, 6272)              0         \n",
            "_________________________________________________________________\n",
            "dense (Dense)                (None, 128)               802944    \n",
            "_________________________________________________________________\n",
            "dense_1 (Dense)              (None, 1)                 129       \n",
            "=================================================================\n",
            "Total params: 813,217\n",
            "Trainable params: 813,217\n",
            "Non-trainable params: 0\n",
            "_________________________________________________________________\n"
          ],
          "name": "stdout"
        }
      ]
    },
    {
      "cell_type": "markdown",
      "metadata": {
        "id": "ehS-v3MIpX2h"
      },
      "source": [
        "### Training the CNN on the Training set and evaluating it on the Test set"
      ]
    },
    {
      "cell_type": "code",
      "metadata": {
        "id": "XUj1W4PJptta",
        "outputId": "a1268a24-d5a0-4ba7-b56b-0996d62be080",
        "colab": {
          "base_uri": "https://localhost:8080/",
          "height": 857
        }
      },
      "source": [
        "fitted_model = cnn.fit(x = training_set, validation_data = test_set, epochs = 25)"
      ],
      "execution_count": 16,
      "outputs": [
        {
          "output_type": "stream",
          "text": [
            "Epoch 1/25\n",
            "29/29 [==============================] - 400s 14s/step - loss: 0.5882 - accuracy: 0.6782 - val_loss: 0.5159 - val_accuracy: 0.6820\n",
            "Epoch 2/25\n",
            "29/29 [==============================] - 10s 352ms/step - loss: 0.3014 - accuracy: 0.8820 - val_loss: 0.2129 - val_accuracy: 0.9247\n",
            "Epoch 3/25\n",
            "29/29 [==============================] - 10s 342ms/step - loss: 0.1690 - accuracy: 0.9399 - val_loss: 0.2637 - val_accuracy: 0.8870\n",
            "Epoch 4/25\n",
            "29/29 [==============================] - 10s 345ms/step - loss: 0.1118 - accuracy: 0.9633 - val_loss: 0.1212 - val_accuracy: 0.9540\n",
            "Epoch 5/25\n",
            "29/29 [==============================] - 10s 343ms/step - loss: 0.0853 - accuracy: 0.9744 - val_loss: 0.0896 - val_accuracy: 0.9707\n",
            "Epoch 6/25\n",
            "29/29 [==============================] - 10s 348ms/step - loss: 0.1143 - accuracy: 0.9666 - val_loss: 0.0782 - val_accuracy: 0.9791\n",
            "Epoch 7/25\n",
            "29/29 [==============================] - 10s 346ms/step - loss: 0.0744 - accuracy: 0.9744 - val_loss: 0.0671 - val_accuracy: 0.9791\n",
            "Epoch 8/25\n",
            "29/29 [==============================] - 10s 345ms/step - loss: 0.0656 - accuracy: 0.9777 - val_loss: 0.1101 - val_accuracy: 0.9540\n",
            "Epoch 9/25\n",
            "29/29 [==============================] - 10s 361ms/step - loss: 0.0620 - accuracy: 0.9822 - val_loss: 0.0618 - val_accuracy: 0.9791\n",
            "Epoch 10/25\n",
            "29/29 [==============================] - 11s 380ms/step - loss: 0.0509 - accuracy: 0.9844 - val_loss: 0.0683 - val_accuracy: 0.9791\n",
            "Epoch 11/25\n",
            "29/29 [==============================] - 11s 375ms/step - loss: 0.0518 - accuracy: 0.9855 - val_loss: 0.0598 - val_accuracy: 0.9833\n",
            "Epoch 12/25\n",
            "29/29 [==============================] - 12s 399ms/step - loss: 0.0464 - accuracy: 0.9811 - val_loss: 0.1256 - val_accuracy: 0.9498\n",
            "Epoch 13/25\n",
            "29/29 [==============================] - 13s 446ms/step - loss: 0.0545 - accuracy: 0.9866 - val_loss: 0.0634 - val_accuracy: 0.9749\n",
            "Epoch 14/25\n",
            "29/29 [==============================] - 11s 363ms/step - loss: 0.0365 - accuracy: 0.9878 - val_loss: 0.0576 - val_accuracy: 0.9749\n",
            "Epoch 15/25\n",
            "29/29 [==============================] - 11s 395ms/step - loss: 0.0426 - accuracy: 0.9866 - val_loss: 0.0591 - val_accuracy: 0.9791\n",
            "Epoch 16/25\n",
            "29/29 [==============================] - 11s 377ms/step - loss: 0.0420 - accuracy: 0.9800 - val_loss: 0.0419 - val_accuracy: 0.9833\n",
            "Epoch 17/25\n",
            "29/29 [==============================] - 11s 366ms/step - loss: 0.0387 - accuracy: 0.9878 - val_loss: 0.0747 - val_accuracy: 0.9707\n",
            "Epoch 18/25\n",
            "29/29 [==============================] - 10s 352ms/step - loss: 0.0248 - accuracy: 0.9944 - val_loss: 0.0412 - val_accuracy: 0.9874\n",
            "Epoch 19/25\n",
            "29/29 [==============================] - 10s 351ms/step - loss: 0.0212 - accuracy: 0.9933 - val_loss: 0.1177 - val_accuracy: 0.9582\n",
            "Epoch 20/25\n",
            "29/29 [==============================] - 10s 354ms/step - loss: 0.0259 - accuracy: 0.9900 - val_loss: 0.0477 - val_accuracy: 0.9916\n",
            "Epoch 21/25\n",
            "29/29 [==============================] - 10s 345ms/step - loss: 0.0222 - accuracy: 0.9933 - val_loss: 0.0301 - val_accuracy: 0.9916\n",
            "Epoch 22/25\n",
            "29/29 [==============================] - 10s 341ms/step - loss: 0.0163 - accuracy: 0.9944 - val_loss: 0.0491 - val_accuracy: 0.9833\n",
            "Epoch 23/25\n",
            "29/29 [==============================] - 10s 348ms/step - loss: 0.0194 - accuracy: 0.9911 - val_loss: 0.0986 - val_accuracy: 0.9665\n",
            "Epoch 24/25\n",
            "29/29 [==============================] - 10s 349ms/step - loss: 0.0519 - accuracy: 0.9811 - val_loss: 0.0228 - val_accuracy: 0.9916\n",
            "Epoch 25/25\n",
            "29/29 [==============================] - 10s 344ms/step - loss: 0.0203 - accuracy: 0.9922 - val_loss: 0.0488 - val_accuracy: 0.9833\n"
          ],
          "name": "stdout"
        }
      ]
    },
    {
      "cell_type": "code",
      "metadata": {
        "id": "2L_RaoIZG87L",
        "outputId": "d431b830-3c6a-4bb6-e6a3-75f9d3d9bbd5",
        "colab": {
          "base_uri": "https://localhost:8080/",
          "height": 282
        }
      },
      "source": [
        "import matplotlib.pyplot as plt\n",
        "# plotting accuracy and validation accuracy\n",
        "accuracy = fitted_model.history['accuracy']\n",
        "plt.plot(range(len(accuracy)), accuracy, 'bo', label = 'accuracy')\n",
        "\n",
        "plt.legend()"
      ],
      "execution_count": 17,
      "outputs": [
        {
          "output_type": "execute_result",
          "data": {
            "text/plain": [
              "<matplotlib.legend.Legend at 0x7f1b0a95dcc0>"
            ]
          },
          "metadata": {
            "tags": []
          },
          "execution_count": 17
        },
        {
          "output_type": "display_data",
          "data": {
            "image/png": "[encoded data removed]",
            "text/plain": [
              "<Figure size 432x288 with 1 Axes>"
            ]
          },
          "metadata": {
            "tags": [],
            "needs_background": "light"
          }
        }
      ]
    },
    {
      "cell_type": "markdown",
      "metadata": {
        "id": "U3PZasO0006Z"
      },
      "source": [
        "## Part 4 - Making a single prediction"
      ]
    },
    {
      "cell_type": "code",
      "metadata": {
        "id": "gsSiWEJY1BPB"
      },
      "source": [
        "import numpy as np\n",
        "from keras.preprocessing import image\n",
        "test_image = image.load_img('/content/gdrive/My Drive/Colab Notebooks/386-with-mask.jpg', target_size = (64, 64))\n",
        "test_image = image.img_to_array(test_image)\n",
        "test_image = np.expand_dims(test_image, axis = 0)\n",
        "result = cnn.predict(test_image)\n",
        "training_set.class_indices\n",
        "if result[0][0] == 1:\n",
        "  prediction = 'Without Mask'\n",
        "else:\n",
        "  prediction = 'With Mask'"
      ],
      "execution_count": 18,
      "outputs": []
    },
    {
      "cell_type": "code",
      "metadata": {
        "id": "ED9KB3I54c1i",
        "outputId": "0900858f-37d4-4335-df00-22bb5f5021f8",
        "colab": {
          "base_uri": "https://localhost:8080/",
          "height": 34
        }
      },
      "source": [
        "print(prediction)"
      ],
      "execution_count": 19,
      "outputs": [
        {
          "output_type": "stream",
          "text": [
            "With Mask\n"
          ],
          "name": "stdout"
        }
      ]
    }
  ]
}